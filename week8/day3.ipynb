{
 "cells": [
  {
   "cell_type": "markdown",
   "id": "0df0d850-49eb-4a0b-a27a-146969db710d",
   "metadata": {},
   "source": [
    "# The Price is Right\n",
    "\n",
    "Today we'll build another piece of the puzzle: a ScanningAgent that looks for promising deals by subscribing to RSS feeds."
   ]
  },
  {
   "cell_type": "code",
   "execution_count": 2,
   "id": "d3763a79-8a5a-4300-8de4-93e85475af10",
   "metadata": {},
   "outputs": [],
   "source": [
    "# imports\n",
    "\n",
    "import os\n",
    "import json\n",
    "from dotenv import load_dotenv\n",
    "from openai import OpenAI\n",
    "from agents.deals import ScrapedDeal, DealSelection"
   ]
  },
  {
   "cell_type": "code",
   "execution_count": 3,
   "id": "c6469e32-16c3-4443-9475-ade710ef6933",
   "metadata": {},
   "outputs": [],
   "source": [
    "# Initialize and constants\n",
    "\n",
    "load_dotenv()\n",
    "os.environ['OPENAI_API_KEY'] = os.getenv('OPENAI_API_KEY', 'your-key-if-not-using-env')\n",
    "MODEL = 'gpt-4o-mini'\n",
    "openai = OpenAI()"
   ]
  },
  {
   "cell_type": "code",
   "execution_count": 4,
   "id": "afece9db-8cd4-46be-ac57-0b472e84da7d",
   "metadata": {},
   "outputs": [
    {
     "name": "stderr",
     "output_type": "stream",
     "text": [
      "100%|████████████████████████████████████████████████████████████████████████████████████████████████████████████████████████| 1/1 [00:21<00:00, 21.71s/it]\n"
     ]
    }
   ],
   "source": [
    "deals = ScrapedDeal.fetch(show_progress=True)"
   ]
  },
  {
   "cell_type": "code",
   "execution_count": 5,
   "id": "8cd15c4d-eb44-4601-bf0c-f945c1d8e3ec",
   "metadata": {},
   "outputs": [
    {
     "data": {
      "text/plain": [
       "10"
      ]
     },
     "execution_count": 5,
     "metadata": {},
     "output_type": "execute_result"
    }
   ],
   "source": [
    "len(deals)"
   ]
  },
  {
   "cell_type": "code",
   "execution_count": 14,
   "id": "e371a143-8a10-4012-a0a2-841f429f11cb",
   "metadata": {},
   "outputs": [
    {
     "name": "stdout",
     "output_type": "stream",
     "text": [
      "[<Fremo X300 276Wh Portable Power Station for $170 + free shipping>, <Samsung Certified Re-Newed Smartphones for $350 minimum trade-in credit + free shipping>, <Samsung Crystal UHD DU7200 TVs: Up to $200 off>, <KEH Camera End of Year Sale: Up to 20% off + extra 10% to 20% off + free shipping w/ $75>, <NanoPhone 4G Dual-SIM Android Smartphone for $90 + free shipping>, <iScanner App for iPhone for $28>, <Energizer Last Minute Deals at Walmart From $3 + free shipping w/ $35>, <RedPocket Unlimited Prepaid Plan for $140 + free shipping>, <Tech Gifts at Walmart Under $25 + free shipping w/ $35>, <Infimobile 5GB 12-Month Plan for $75>]\n"
     ]
    }
   ],
   "source": [
    "print(list(deals))"
   ]
  },
  {
   "cell_type": "code",
   "execution_count": 15,
   "id": "4259f30a-6455-49ed-8863-2f9ddd4776cb",
   "metadata": {},
   "outputs": [
    {
     "data": {
      "text/plain": [
       "\"Title: Fremo X300 276Wh Portable Power Station for $170 + free shipping\\nDetails: As part of today's daily deals, bag this one at the lowest price we've ever seen on it. Buy Now at Best Buy\\nFeatures: EVE lithium-ion battery pure sine wave inverter  built-in Battery Management System supports USB-C PD 100W charging and standard adapter charging Model: X300\\nURL: https://www.dealnews.com/products/Fremo/Fremo-X300-276-Wh-Portable-Power-Station/393098.html?iref=rss-c142\""
      ]
     },
     "execution_count": 15,
     "metadata": {},
     "output_type": "execute_result"
    }
   ],
   "source": [
    "deals[0].describe()"
   ]
  },
  {
   "cell_type": "code",
   "execution_count": 8,
   "id": "8100e5ac-38f5-40c1-a712-08ae12c85038",
   "metadata": {},
   "outputs": [],
   "source": [
    "system_prompt = \"\"\"You identify and summarize the 5 most detailed deals from a list, by selecting deals that have the most detailed, high quality description and the most clear price.\n",
    "Respond strictly in JSON with no explanation, using this format. You should provide the price as a number derived from the description. If the price of a deal isn't clear, do not include that deal in your response.\n",
    "Most important is that you respond with the 5 deals that have the most detailed product description with price. It's not important to mention the terms of the deal; most important is a thorough description of the product.\n",
    "Be careful with products that are described as \"$XXX off\" or \"reduced by $XXX\" - this isn't the actual price of the product. Only respond with products when you are highly confident about the price. \n",
    "\n",
    "{\"deals\": [\n",
    "    {\n",
    "        \"product_description\": \"Your clearly expressed summary of the product in 4-5 sentences. Details of the item are much more important than why it's a good deal. Avoid mentioning discounts and coupons; focus on the item itself. There should be a paragpraph of text for each item you choose.\",\n",
    "        \"price\": 99.99,\n",
    "        \"url\": \"the url as provided\"\n",
    "    },\n",
    "    ...\n",
    "]}\"\"\""
   ]
  },
  {
   "cell_type": "code",
   "execution_count": 25,
   "id": "243d682d-a7bc-4376-9bab-6ffd186b8bd8",
   "metadata": {},
   "outputs": [
    {
     "name": "stdout",
     "output_type": "stream",
     "text": [
      "You identify and summarize the 5 most detailed deals from a list, by selecting deals that have the most detailed, high quality description and the most clear price.\n",
      "Respond strictly in JSON with no explanation, using this format. You should provide the price as a number derived from the description. If the price of a deal isn't clear, do not include that deal in your response.\n",
      "Most important is that you respond with the 5 deals that have the most detailed product description with price. It's not important to mention the terms of the deal; most important is a thorough description of the product.\n",
      "Be careful with products that are described as \"$XXX off\" or \"reduced by $XXX\" - this isn't the actual price of the product. Only respond with products when you are highly confident about the price. \n",
      "\n",
      "{\"deals\": [\n",
      "    {\n",
      "        \"product_description\": \"Your clearly expressed summary of the product in 4-5 sentences. Details of the item are much more important than why it's a good deal. Avoid mentioning discounts and coupons; focus on the item itself. There should be a paragpraph of text for each item you choose.\",\n",
      "        \"price\": 99.99,\n",
      "        \"url\": \"the url as provided\"\n",
      "    },\n",
      "    ...\n",
      "]}\n"
     ]
    }
   ],
   "source": [
    "print(system_prompt)"
   ]
  },
  {
   "cell_type": "code",
   "execution_count": 9,
   "id": "f4bca170-af71-40c9-9597-1d72980c74d8",
   "metadata": {},
   "outputs": [],
   "source": [
    "user_prompt = \"\"\"Respond with the most promising 5 deals from this list, selecting those which have the most detailed, high quality product description and a clear price.\n",
    "Respond strictly in JSON, and only JSON. You should rephrase the description to be a summary of the product itself, not the terms of the deal.\n",
    "Remember to respond with a paragraph of text in the product_description field for each of the 5 items that you select.\n",
    "Be careful with products that are described as \"$XXX off\" or \"reduced by $XXX\" - this isn't the actual price of the product. Only respond with products when you are highly confident about the price. \n",
    "\n",
    "Deals:\n",
    "\n",
    "\"\"\"\n",
    "user_prompt += '\\n\\n'.join([deal.describe() for deal in deals])"
   ]
  },
  {
   "cell_type": "code",
   "execution_count": 24,
   "id": "020947a6-561b-417b-98a0-a085e31d2ce3",
   "metadata": {},
   "outputs": [
    {
     "name": "stdout",
     "output_type": "stream",
     "text": [
      "Respond with the most promising 5 deals from this list, selecting those which have the most detailed, high quality product description and a clear price.\n",
      "Respond strictly in JSON, and only JSON. You should rephrase the description to be a summary of the product itself, not the terms of the deal.\n",
      "Remember to respond with a paragraph of text in the product_description field for each of the 5 items that you select.\n",
      "Be careful with products that are described as \"$XXX off\" or \"reduced by $XXX\" - this isn't the actual price of the product. Only respond with products when you are highly confident about the price. \n",
      "\n",
      "Deals:\n",
      "\n",
      "Title: Fremo X300 276Wh Portable Power Station for $170 + free shipping\n",
      "Details: As part of today's daily deals, bag this one at the lowest price we've ever seen on it. Buy Now at Best Buy\n",
      "Features: EVE lithium-ion battery pure sine wave inverter  built-in Battery Management System supports USB-C PD 100W charging and standard adapter charging Model: X300\n",
      "URL: https://www.dealnews.com/products/Fremo/Fremo-X300-276-Wh-Portable-Power-Station/393098.html?iref=rss-c142\n",
      "\n",
      "Title: Samsung Certified Re-Newed Smartphones for $350 minimum trade-in credit + free shipping\n",
      "Details: Trade in your qualifying smartphone, and get a minimum of $350 credit towards the purchase of a new phone. You can choose from Galaxy S21, S22, or S23 series phones, with prices starting at $449 before any credit. All Samsung Certified Re-Newed smartphones come with a one-year limited warranty Buy Now at Samsung\n",
      "Features: \n",
      "URL: https://www.dealnews.com/Samsung-Certified-Re-Newed-Smartphones-for-350-minimum-trade-in-credit-free-shipping/21707401.html?iref=rss-c142\n",
      "\n",
      "Title: Samsung Crystal UHD DU7200 TVs: Up to $200 off\n",
      "Details: Samsung offers this model in these sizes with the following discounts:43\" for $230 ($40 off)55\" for $350 ($30 off)65\" for $430 ($40 off)70\" for $530 ($60 off)75\" for $630 ($20 off)85\" for $900 ($200 off) Shop Now at Samsung\n",
      "Features: \n",
      "URL: https://www.dealnews.com/Samsung-Crystal-UHD-DU7200-TVs-Up-to-200-off/21707399.html?iref=rss-c142\n",
      "\n",
      "Title: KEH Camera End of Year Sale: Up to 20% off + extra 10% to 20% off + free shipping w/ $75\n",
      "Details: Use coupon code \"EYC24\" to get the extra discount on these rare and resold cameras, lenses, and accessories. Shipping adds $9.95 or is free with orders of $75 or more. Shop Now at KEH Camera\n",
      "Features: \n",
      "URL: https://www.dealnews.com/KEH-Camera-End-of-Year-Sale-Up-to-20-off-extra-10-to-20-off-free-shipping-w-75/21707382.html?iref=rss-c142\n",
      "\n",
      "Title: NanoPhone 4G Dual-SIM Android Smartphone for $90 + free shipping\n",
      "Details: Save $110 on this credit card-sized Android phone. Buy Now at StackSocial\n",
      "Features: 3\" IPS screen 5MP rear camera, 2MP front camera USB Type-C charging Android 10\n",
      "URL: https://www.dealnews.com/Nano-Phone-4-G-Dual-SIM-Android-Smartphone-for-90-free-shipping/21707279.html?iref=rss-c142\n",
      "\n",
      "Title: iScanner App for iPhone for $28\n",
      "Details: Use coupon code \"FESTIVE30\" to save $172 on this app — it allows you to scan any document using your iPhone or iPad, with A.I.-powered tools and PDF editing. Buy Now at StackSocial\n",
      "Features: various scanning modes compatible with iOS 15.0 / iPadOS 15.0 or later\n",
      "URL: https://www.dealnews.com/iScanner-App-for-iPhone-for-28/21707278.html?iref=rss-c142\n",
      "\n",
      "Title: Energizer Last Minute Deals at Walmart From $3 + free shipping w/ $35\n",
      "Details: Save as much as 50% off on batteries, multipacks, headlamps, and more. Spend $35 for free shipping, or choose pickup to avoid the $6.99 shipping charge. Buy Now at Walmart\n",
      "Features: \n",
      "URL: https://www.dealnews.com/Energizer-Last-Minute-Deals-at-Walmart-From-3-free-shipping-w-35/21707277.html?iref=rss-c142\n",
      "\n",
      "Title: RedPocket Unlimited Prepaid Plan for $140 + free shipping\n",
      "Details: That's a savings of $165. Buy Now at eBay\n",
      "Features: 3GB to 5GB LTE/Month depending on choice of provider\n",
      "URL: https://www.dealnews.com/Red-Pocket-Unlimited-Prepaid-Plan-for-140-free-shipping/21707259.html?iref=rss-c142\n",
      "\n",
      "Title: Tech Gifts at Walmart Under $25 + free shipping w/ $35\n",
      "Details: There's thousands of ideal stock-stuffers on offer here. Save up to 80% off PC accessories, video games, batteries, headsets, walkie talkies, and much more. My Best Buy members get free shipping. (It's free to join. Shipping is free for everyone over $35. Pickup may also be available.) Buy Now at Walmart\n",
      "Features: \n",
      "URL: https://www.dealnews.com/Tech-Gifts-at-Walmart-Under-25-free-shipping-w-35/21704748.html?iref=rss-c142\n",
      "\n",
      "Title: Infimobile 5GB 12-Month Plan for $75\n",
      "Details: Get the 5GB plan (12 months) for $75, available on both Verizon and T-Mobile networks. This plan offers 5GB of data, 2,500 voice minutes, and 2,500 SMS/MMS each month. Originally priced at $15 per month, you can enjoy the entire 12-month plan for just $75. Plus, the \"INFI40\" coupon is applicable for 1, 3, and 6-month options. Also, you'll have a chance to win an Apple iPhone 16 Pro. Buy Now at INFICLOUD CORP\n",
      "Features: \n",
      "URL: https://www.dealnews.com/Infimobile-5-GB-12-Month-Plan-for-75/21707299.html?iref=rss-c142\n"
     ]
    }
   ],
   "source": [
    "print(user_prompt)"
   ]
  },
  {
   "cell_type": "code",
   "execution_count": 16,
   "id": "7de46f74-868c-4127-8a68-cf2da7d600bb",
   "metadata": {},
   "outputs": [],
   "source": [
    "def get_recommendations():\n",
    "    completion = openai.beta.chat.completions.parse(\n",
    "        model=\"gpt-4o-mini\",\n",
    "        messages=[\n",
    "            {\"role\": \"system\", \"content\": system_prompt},\n",
    "            {\"role\": \"user\", \"content\": user_prompt}\n",
    "      ],\n",
    "        response_format=DealSelection\n",
    "    )\n",
    "    result = completion.choices[0].message.parsed\n",
    "    return result"
   ]
  },
  {
   "cell_type": "code",
   "execution_count": 17,
   "id": "4c06270d-8c17-4d5a-9cfe-b6cefe788d5e",
   "metadata": {},
   "outputs": [],
   "source": [
    "result = get_recommendations()"
   ]
  },
  {
   "cell_type": "code",
   "execution_count": 22,
   "id": "84e62845-3338-441a-8161-c70097af4773",
   "metadata": {},
   "outputs": [
    {
     "data": {
      "text/plain": [
       "agents.deals.DealSelection"
      ]
     },
     "execution_count": 22,
     "metadata": {},
     "output_type": "execute_result"
    }
   ],
   "source": [
    "type(result)"
   ]
  },
  {
   "cell_type": "code",
   "execution_count": 29,
   "id": "6f096fdd-b4c6-4ab8-842a-3a49bcede024",
   "metadata": {},
   "outputs": [
    {
     "data": {
      "text/plain": [
       "DealSelection(deals=[Deal(product_description='The Fremo X300 Portable Power Station is a compact, lightweight solution for your power needs on-the-go. With a 276Wh capacity, it features advanced EVE lithium-ion battery technology and a pure sine wave inverter, ensuring safe and stable energy output for various devices. The built-in Battery Management System enhances performance and safety, while USB-C PD 100W charging allows for fast charging of compatible devices. Perfect for camping, emergencies, or as a mobile power source, this power station is a must-have for outdoor enthusiasts.', price=170.0, url='https://www.dealnews.com/products/Fremo/Fremo-X300-276-Wh-Portable-Power-Station/393098.html?iref=rss-c142'), Deal(product_description='The NanoPhone 4G is an innovative, credit card-sized Android smartphone designed for simplicity and convenience. It features a vibrant 3-inch IPS display and includes essential functionalities with a 5MP rear camera and a 2MP front camera for capturing your moments. The device supports USB Type-C charging and runs on Android 10, offering a full smartphone experience in an ultra-portable form factor. Ideal for those who prefer a minimalistic device without sacrificing smartphone capabilities.', price=90.0, url='https://www.dealnews.com/Nano-Phone-4-G-Dual-SIM-Android-Smartphone-for-90-free-shipping/21707279.html?iref=rss-c142'), Deal(product_description=\"The iScanner app for iPhone is a powerful document scanning tool that utilizes advanced A.I. features for enhanced productivity. This app allows users to quickly scan any document and convert it into high-quality PDFs, making it perfect for students, professionals, or anyone needing to digitize paperwork. Compatibility with iOS 15.0 and later ensures seamless integration with your iPhone or iPad. With various scanning modes and easy PDF editing options, it's an essential app for modern document management.\", price=28.0, url='https://www.dealnews.com/iScanner-App-for-iPhone-for-28/21707278.html?iref=rss-c142'), Deal(product_description=\"The Infimobile 5GB 12-Month Plan is a budget-friendly mobile service option that provides users with 5GB of data, along with 2,500 voice minutes and 2,500 SMS/MMS monthly. It's perfect for casual smartphone users who need reliable service without the hefty price tag. Available on both Verizon and T-Mobile networks, this plan was originally priced higher, but can now be purchased for a total of $75 for the entire year. Enjoy the convenience of a prepaid mobile plan with no hidden fees or long-term contracts.\", price=75.0, url='https://www.dealnews.com/Infimobile-5-GB-12-Month-Plan-for-75/21707299.html?iref=rss-c142'), Deal(product_description=\"Samsung Certified Re-Newed Smartphones offer a blend of quality and affordability. Choose from the popular Galaxy S21, S22, or S23 series, each inspected and certified to ensure they meet Samsung's high standards. With a minimum of $350 trade-in credit available when you turn in your qualifying smartphone, these devices come with a one-year limited warranty, giving you peace of mind. These smartphones deliver cutting-edge technology, stunning displays, and powerful performance, making them a fantastic choice for anyone looking to upgrade.\", price=449.0, url='https://www.dealnews.com/Samsung-Certified-Re-Newed-Smartphones-for-350-minimum-trade-in-credit-free-shipping/21707401.html?iref=rss-c142')])"
      ]
     },
     "execution_count": 29,
     "metadata": {},
     "output_type": "execute_result"
    }
   ],
   "source": [
    "result"
   ]
  },
  {
   "cell_type": "code",
   "execution_count": 26,
   "id": "6a1d07d9-d0ca-430c-a866-e5606772db3f",
   "metadata": {},
   "outputs": [
    {
     "data": {
      "text/plain": [
       "5"
      ]
     },
     "execution_count": 26,
     "metadata": {},
     "output_type": "execute_result"
    }
   ],
   "source": [
    "len(result.deals)"
   ]
  },
  {
   "cell_type": "code",
   "execution_count": 28,
   "id": "e5554a0a-ae40-4684-ad3e-faa3d22e030c",
   "metadata": {},
   "outputs": [
    {
     "name": "stdout",
     "output_type": "stream",
     "text": [
      "product_description='The Fremo X300 Portable Power Station is a compact, lightweight solution for your power needs on-the-go. With a 276Wh capacity, it features advanced EVE lithium-ion battery technology and a pure sine wave inverter, ensuring safe and stable energy output for various devices. The built-in Battery Management System enhances performance and safety, while USB-C PD 100W charging allows for fast charging of compatible devices. Perfect for camping, emergencies, or as a mobile power source, this power station is a must-have for outdoor enthusiasts.' price=170.0 url='https://www.dealnews.com/products/Fremo/Fremo-X300-276-Wh-Portable-Power-Station/393098.html?iref=rss-c142'\n"
     ]
    }
   ],
   "source": [
    "print(result.deals[0])"
   ]
  },
  {
   "cell_type": "code",
   "execution_count": null,
   "id": "8bdc57fb-7497-47af-a643-6ba5a21cc17e",
   "metadata": {},
   "outputs": [],
   "source": [
    "from agents.scanner_agent import ScannerAgent"
   ]
  },
  {
   "cell_type": "code",
   "execution_count": null,
   "id": "132278bc-217a-43a6-b6c4-724140c6a225",
   "metadata": {},
   "outputs": [],
   "source": [
    "agent = ScannerAgent()\n",
    "result = agent.scan()"
   ]
  },
  {
   "cell_type": "code",
   "execution_count": null,
   "id": "2e1d013a-c930-4dad-901b-41433379e14b",
   "metadata": {},
   "outputs": [],
   "source": [
    "result"
   ]
  },
  {
   "cell_type": "code",
   "execution_count": null,
   "id": "5ee2e837-1f1d-42d4-8bc4-51cccc343006",
   "metadata": {},
   "outputs": [],
   "source": []
  }
 ],
 "metadata": {
  "kernelspec": {
   "display_name": "Python 3 (ipykernel)",
   "language": "python",
   "name": "python3"
  },
  "language_info": {
   "codemirror_mode": {
    "name": "ipython",
    "version": 3
   },
   "file_extension": ".py",
   "mimetype": "text/x-python",
   "name": "python",
   "nbconvert_exporter": "python",
   "pygments_lexer": "ipython3",
   "version": "3.11.11"
  }
 },
 "nbformat": 4,
 "nbformat_minor": 5
}
