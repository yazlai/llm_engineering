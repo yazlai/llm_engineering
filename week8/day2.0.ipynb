{
 "cells": [
  {
   "cell_type": "markdown",
   "id": "046fd8f8-ad14-4c7f-b759-fec52f5b5306",
   "metadata": {},
   "source": [
    "# The Price is Right\n",
    "\n",
    "Today we build a more complex solution for estimating prices of goods.\n",
    "\n",
    "1. This notebook: create a RAG database with our 400,000 training data\n",
    "2. Day 2.1 notebook: visualize in 2D\n",
    "3. Day 2.2 notebook: visualize in 3D\n",
    "4. Day 2.3 notebook: build and test a RAG pipeline with GPT-4o-mini\n",
    "5. Day 2.4 notebook: (a) bring back our Random Forest pricer (b) Create a Ensemble pricer that allows contributions from all the pricers\n",
    "\n",
    "Phew! That's a lot to get through in one day!\n",
    "\n",
    "## PLEASE NOTE:\n",
    "\n",
    "We already have a very powerful product estimator with our proprietary, fine-tuned LLM. Most people would be very satisfied with that! The main reason we're adding these extra steps is to deepen your expertise with RAG and with Agentic workflows.\n"
   ]
  },
  {
   "cell_type": "code",
   "execution_count": 1,
   "id": "993a2a24-1a58-42be-8034-6d116fb8d786",
   "metadata": {},
   "outputs": [],
   "source": [
    "# imports\n",
    "\n",
    "import os\n",
    "import re\n",
    "import math\n",
    "import json\n",
    "from tqdm import tqdm\n",
    "import random\n",
    "from dotenv import load_dotenv\n",
    "from huggingface_hub import login\n",
    "import numpy as np\n",
    "import pickle\n",
    "from sentence_transformers import SentenceTransformer\n",
    "from datasets import load_dataset\n",
    "import chromadb\n",
    "from items import Item\n",
    "from sklearn.manifold import TSNE\n",
    "import plotly.graph_objects as go"
   ]
  },
  {
   "cell_type": "code",
   "execution_count": 2,
   "id": "2359ccc0-dbf2-4b1e-9473-e472b32f548b",
   "metadata": {},
   "outputs": [],
   "source": [
    "# environment\n",
    "\n",
    "load_dotenv()\n",
    "os.environ['OPENAI_API_KEY'] = os.getenv('OPENAI_API_KEY', 'your-key-if-not-using-env')\n",
    "os.environ['HF_TOKEN'] = os.getenv('HF_TOKEN', 'your-key-if-not-using-env')\n",
    "DB = \"products_vectorstore\""
   ]
  },
  {
   "cell_type": "code",
   "execution_count": 3,
   "id": "645167e6-cf0d-42d2-949f-1089a25a2841",
   "metadata": {},
   "outputs": [
    {
     "name": "stderr",
     "output_type": "stream",
     "text": [
      "Note: Environment variable`HF_TOKEN` is set and is the current active token independently from the token you've just configured.\n"
     ]
    }
   ],
   "source": [
    "# Log in to HuggingFace\n",
    "\n",
    "hf_token = os.environ['HF_TOKEN']\n",
    "login(hf_token, add_to_git_credential=True)"
   ]
  },
  {
   "cell_type": "markdown",
   "id": "3d4995a4-f67f-4871-87df-8c6439b06366",
   "metadata": {},
   "source": [
    "## Back to the pkl files\n",
    "\n",
    "Much as we enjoyed data curating in week 6, we probably don't want to go through that whole process again!\n",
    "\n",
    "Let's reuse the pkl files we created then. Either copy the files `train.pkl` and `test.pkl` from the Week 6 folder into this Week 8 folder, or you can also download them from here:\n",
    "\n",
    "https://drive.google.com/drive/folders/1f_IZGybvs9o0J5sb3xmtTEQB3BXllzrW?usp=drive_link"
   ]
  },
  {
   "cell_type": "code",
   "execution_count": 4,
   "id": "688bd995-ec3e-43cd-8179-7fe14b275877",
   "metadata": {},
   "outputs": [],
   "source": [
    "# With train.pkl in this folder, you can run this:\n",
    "\n",
    "with open('train.pkl', 'rb') as file:\n",
    "    train = pickle.load(file)"
   ]
  },
  {
   "cell_type": "code",
   "execution_count": 5,
   "id": "2817eaf5-4302-4a18-9148-d1062e3b3dbb",
   "metadata": {},
   "outputs": [
    {
     "data": {
      "text/plain": [
       "'How much does this cost to the nearest dollar?\\n\\nDelphi FG0166 Fuel Pump Module\\nDelphi brings 80 years of OE Heritage into each Delphi pump, ensuring quality and fitment for each Delphi part. Part is validated, tested and matched to the right vehicle application Delphi brings 80 years of OE Heritage into each Delphi assembly, ensuring quality and fitment for each Delphi part Always be sure to check and clean fuel tank to avoid unnecessary returns Rigorous OE-testing ensures the pump can withstand extreme temperatures Brand Delphi, Fit Type Vehicle Specific Fit, Dimensions LxWxH 19.7 x 7.7 x 5.1 inches, Weight 2.2 Pounds, Auto Part Position Unknown, Operation Mode Mechanical, Manufacturer Delphi, Model FUEL PUMP, Dimensions 19.7\\n\\nPrice is $227.00'"
      ]
     },
     "execution_count": 5,
     "metadata": {},
     "output_type": "execute_result"
    }
   ],
   "source": [
    "train[0].prompt"
   ]
  },
  {
   "cell_type": "markdown",
   "id": "9ae1ba16-7e80-4096-ac88-64ef8edcc80c",
   "metadata": {},
   "source": [
    "# Now create a Chroma Datastore\n",
    "\n",
    "In Week 5, we created a Chroma datastore with 123 documents representing chunks of objects from our fictional company Insurellm.\n",
    "\n",
    "Now we will create a Chroma datastore with 400,000 products from our training dataset! It's getting real!\n",
    "\n",
    "Note that we won't be using LangChain, but the API is very straightforward and consistent with before."
   ]
  },
  {
   "cell_type": "code",
   "execution_count": 6,
   "id": "f4aab95e-d719-4476-b6e7-e248120df25a",
   "metadata": {},
   "outputs": [],
   "source": [
    "client = chromadb.PersistentClient(path=DB)"
   ]
  },
  {
   "cell_type": "code",
   "execution_count": 7,
   "id": "5f95dafd-ab80-464e-ba8a-dec7a2424780",
   "metadata": {},
   "outputs": [
    {
     "name": "stdout",
     "output_type": "stream",
     "text": [
      "Deleted existing collection: products\n"
     ]
    }
   ],
   "source": [
    "# Check if the collection exists and delete it if it does\n",
    "collection_name = \"products\"\n",
    "existing_collection_names = [collection.name for collection in client.list_collections()]\n",
    "if collection_name in existing_collection_names:\n",
    "    client.delete_collection(collection_name)\n",
    "    print(f\"Deleted existing collection: {collection_name}\")\n",
    "\n",
    "collection = client.create_collection(collection_name)"
   ]
  },
  {
   "cell_type": "markdown",
   "id": "d392ed28-203d-4e73-be87-ac1390bdf722",
   "metadata": {},
   "source": [
    "# Introducing the SentenceTransfomer\n",
    "\n",
    "The all-MiniLM is a very useful model from HuggingFace that maps sentences & paragraphs to a 384 dimensional dense vector space and is ideal for tasks like semantic search.\n",
    "\n",
    "https://huggingface.co/sentence-transformers/all-MiniLM-L6-v2\n",
    "\n",
    "It can run pretty quickly locally.\n",
    "\n",
    "Last time we used OpenAI embeddings to produce vector embeddings. Benefits compared to OpenAI embeddings:\n",
    "1. It's free and fast!\n",
    "3. We can run it locally, so the data never leaves our box - might be useful if you're building a personal RAG\n"
   ]
  },
  {
   "cell_type": "code",
   "execution_count": 8,
   "id": "a87db200-d19d-44bf-acbd-15c45c70f5c9",
   "metadata": {},
   "outputs": [],
   "source": [
    "model = SentenceTransformer('sentence-transformers/all-MiniLM-L6-v2')"
   ]
  },
  {
   "cell_type": "code",
   "execution_count": 9,
   "id": "9b23a025-4c35-4d3a-96ad-b956cad37b0a",
   "metadata": {},
   "outputs": [],
   "source": [
    "# Pass in a list of texts, get back a numpy array of vectors\n",
    "\n",
    "vector = model.encode([\"Well hi there\"])[0]"
   ]
  },
  {
   "cell_type": "code",
   "execution_count": 10,
   "id": "8adde63f-e732-4f7c-bba9-f8b2a469f14e",
   "metadata": {},
   "outputs": [
    {
     "data": {
      "text/plain": [
       "array([-9.46715772e-02,  4.27620076e-02,  5.51620498e-02, -5.10970887e-04,\n",
       "        1.16202980e-02, -6.80130422e-02,  2.76405867e-02,  6.06974587e-02,\n",
       "        2.88531017e-02, -1.74128339e-02, -4.94346246e-02,  2.30993051e-02,\n",
       "       -1.28614437e-02, -4.31402586e-02,  2.17509698e-02,  4.26548198e-02,\n",
       "        5.10500371e-02, -7.79727101e-02, -1.23247243e-01,  3.67455892e-02,\n",
       "        4.54119081e-03,  9.47938412e-02, -5.53098843e-02,  1.70641653e-02,\n",
       "       -2.92872209e-02, -4.47124578e-02,  2.06784271e-02,  6.39320314e-02,\n",
       "        2.27427725e-02,  4.87789586e-02, -2.33500893e-03,  4.72859032e-02,\n",
       "       -2.86259297e-02,  2.30624489e-02,  2.45130286e-02,  3.95681411e-02,\n",
       "       -4.33176868e-02, -1.02316663e-01,  2.79874611e-03,  2.39304528e-02,\n",
       "        1.61556639e-02, -8.99080746e-03,  2.07256041e-02,  6.40123039e-02,\n",
       "        6.89179078e-02, -6.98361844e-02,  2.89758621e-03, -8.10989439e-02,\n",
       "        1.71122830e-02,  2.50659091e-03, -1.06529087e-01, -4.87733483e-02,\n",
       "       -1.67762171e-02, -2.28662696e-02,  1.14816517e-01,  4.87413146e-02,\n",
       "       -1.64962132e-02, -6.90831989e-02,  1.13612100e-01, -7.18484893e-02,\n",
       "       -9.01571438e-02,  3.94941208e-06, -8.66769403e-02, -4.05916721e-02,\n",
       "        3.71317454e-02, -1.77618805e-02, -5.57463430e-02, -4.57097292e-02,\n",
       "       -5.43141440e-02, -4.00611833e-02, -4.60228212e-02,  2.82194801e-02,\n",
       "       -2.33606622e-02,  1.44406836e-02, -1.52776912e-02, -4.34328653e-02,\n",
       "        6.81274831e-02,  8.21895003e-02,  7.83892255e-03, -2.85973847e-02,\n",
       "        6.14309423e-02, -4.92684878e-02,  3.27057228e-03, -2.72682291e-02,\n",
       "       -4.59346548e-02, -2.60167383e-02,  5.70649803e-02, -5.86435199e-04,\n",
       "       -4.37076502e-02, -2.47880671e-04, -8.73550624e-02,  3.48776169e-02,\n",
       "        1.39326928e-02, -1.60043575e-02,  2.86958180e-02, -9.48596075e-02,\n",
       "        9.40612406e-02,  5.92685491e-02, -8.65013823e-02,  1.45011529e-01,\n",
       "        2.35388149e-02,  3.43324393e-02,  2.51480116e-04,  7.15540797e-02,\n",
       "       -3.12182922e-02,  3.86666022e-02, -2.47744825e-02,  6.52673990e-02,\n",
       "       -8.28817636e-02, -2.80246884e-02,  9.34542716e-03, -7.85542466e-03,\n",
       "        5.30728400e-02,  2.96895765e-02,  3.27329040e-02,  4.94736806e-02,\n",
       "        2.52208505e-02,  4.67067584e-02,  5.03403544e-02, -7.23745227e-02,\n",
       "        2.54435744e-02, -3.67217325e-02,  1.27570750e-02,  1.46063576e-02,\n",
       "        2.11492609e-02, -5.56908660e-02, -9.18517727e-03, -5.63395478e-34,\n",
       "        9.58769917e-02,  5.94578162e-02,  5.11445478e-02,  3.36360112e-02,\n",
       "       -1.34414276e-02, -2.77203117e-02, -3.48436609e-02,  1.80352200e-02,\n",
       "       -2.53210850e-02,  6.73587853e-03,  5.47840819e-02, -3.60574126e-02,\n",
       "       -5.20869754e-02, -2.90345419e-02,  4.38954169e-03,  6.50023669e-02,\n",
       "        3.07485517e-02,  2.00220309e-02,  1.73049979e-03,  2.96723424e-03,\n",
       "        3.40950838e-03, -6.78144991e-02,  3.41304541e-02,  8.37865006e-03,\n",
       "        5.39904870e-02,  2.70389803e-02,  7.84119740e-02, -1.30136177e-01,\n",
       "        4.84649129e-02,  5.14179021e-02, -7.94688426e-03,  5.57884621e-03,\n",
       "       -5.31025156e-02,  3.81299630e-02, -3.05512939e-02, -7.69778490e-02,\n",
       "        1.20531041e-02, -4.08993885e-02, -8.69358405e-02,  6.38055652e-02,\n",
       "        1.68675333e-02,  1.68736500e-03,  6.28895238e-02, -1.67711265e-02,\n",
       "        2.15585940e-02,  7.10021879e-04,  2.81027541e-03, -8.89795087e-03,\n",
       "       -1.80886742e-02, -2.16216948e-02, -5.59150800e-02,  1.78774800e-02,\n",
       "       -9.27093178e-02,  7.27907941e-03, -1.27753615e-01, -4.86938469e-02,\n",
       "        1.45872058e-02, -1.62751041e-02,  6.75623119e-02,  3.87702361e-02,\n",
       "        7.23295063e-02,  9.14991498e-02, -9.65292230e-02,  4.84791435e-02,\n",
       "       -1.06274053e-01, -1.05042141e-02,  8.90350118e-02, -8.07525888e-02,\n",
       "        7.87081867e-02, -2.04916857e-02, -5.55080995e-02, -3.31532434e-02,\n",
       "       -2.14429721e-02,  4.94699031e-02, -7.05119297e-02,  6.63998425e-02,\n",
       "        7.39671811e-02, -2.70112976e-03,  1.62262693e-02, -3.98228802e-02,\n",
       "        5.94092235e-02, -7.14369072e-03, -3.33479904e-02,  2.30419170e-02,\n",
       "        1.87186170e-02, -6.15724660e-02, -8.55390797e-04, -1.05786666e-01,\n",
       "       -8.43619183e-02, -3.92992496e-02, -3.16447355e-02,  6.60644546e-02,\n",
       "        9.41816419e-02, -8.35982785e-02,  9.50886402e-03,  1.25501608e-34,\n",
       "        6.38198555e-02,  2.11370997e-02, -1.65899806e-02,  1.88642610e-02,\n",
       "       -5.57018928e-02,  1.82809355e-03, -1.37586985e-02,  8.16279054e-02,\n",
       "       -9.13297161e-02,  7.06855208e-02,  6.79992139e-02, -5.44536300e-02,\n",
       "        3.80394682e-02,  3.80503433e-03,  1.03689790e-01,  7.32720306e-04,\n",
       "        2.95661464e-02,  4.19423915e-02, -1.20444350e-01,  1.24932947e-02,\n",
       "       -5.53506576e-02,  1.75228026e-02, -2.28164978e-02, -5.79299070e-02,\n",
       "        9.42935515e-03, -5.42278495e-03, -3.94949969e-03,  2.82348767e-02,\n",
       "       -1.28066912e-01, -1.31304748e-02,  7.42956176e-02, -1.74529646e-02,\n",
       "       -9.72758979e-02,  8.25620629e-03,  2.06900742e-02, -5.29768551e-03,\n",
       "       -1.37696108e-02, -3.50974984e-02,  1.74977817e-02, -1.76233221e-02,\n",
       "       -6.50825873e-02, -3.84676009e-02, -8.76396671e-02,  3.21291015e-02,\n",
       "        2.55019404e-03, -2.09378451e-02,  5.55309579e-02,  2.57094819e-02,\n",
       "       -2.94735804e-02,  1.25047760e-02, -6.83466196e-02, -8.00624043e-02,\n",
       "       -1.46906124e-02,  1.03744911e-02, -8.51863250e-02, -1.10538853e-02,\n",
       "        2.14596223e-02,  4.08609472e-02,  3.31647024e-02, -2.76757367e-02,\n",
       "       -2.01877654e-02,  8.98885448e-03,  3.92048210e-02,  1.15103342e-01,\n",
       "        5.50440736e-02,  2.72755343e-02, -1.09526753e-01, -1.72622818e-02,\n",
       "        1.33438241e-02, -1.73701607e-02, -5.04375109e-03, -2.00292282e-02,\n",
       "        1.16672404e-01, -1.84322260e-02,  3.70626971e-02,  1.60886478e-02,\n",
       "        3.48829366e-02,  5.50574511e-02, -6.60802610e-03,  7.06829131e-02,\n",
       "        4.07848917e-02, -1.43313874e-02, -2.85444828e-03,  2.74252184e-02,\n",
       "       -4.26768959e-02,  1.26583260e-02,  3.34343202e-02,  1.62645336e-02,\n",
       "        1.19262924e-02, -2.92118937e-02,  2.73977462e-02,  3.44305150e-02,\n",
       "        2.52832882e-02,  3.07514314e-02,  3.22557166e-02, -1.74628525e-08,\n",
       "       -1.52690858e-02,  5.37682883e-03,  1.41246483e-01,  5.08366190e-02,\n",
       "        5.32257184e-02,  9.67937931e-02,  4.33674976e-02, -6.48311060e-03,\n",
       "        1.58603694e-02,  4.05631587e-02,  6.94984421e-02,  6.04905225e-02,\n",
       "       -6.26188666e-02, -3.96144427e-02,  1.10648803e-01,  1.67736057e-02,\n",
       "       -7.68698426e-03,  2.59616077e-02, -5.28792664e-02, -2.22319271e-02,\n",
       "        1.74595546e-02,  4.75339554e-02,  3.27675827e-02, -4.59684171e-02,\n",
       "        2.01770887e-02, -1.60876364e-02, -1.58613492e-02, -1.66658293e-02,\n",
       "       -3.05246692e-02, -3.87907177e-02, -1.27654225e-02,  6.57610968e-02,\n",
       "       -2.22502723e-02, -9.44989827e-03,  2.32079644e-02,  2.66038906e-02,\n",
       "        2.14203969e-02, -7.54574407e-03,  8.84752423e-02, -9.43514705e-02,\n",
       "       -5.74870892e-02, -7.77099207e-02,  1.95795135e-03, -1.50347464e-02,\n",
       "       -8.08491185e-03,  1.88217480e-02,  8.42515286e-03, -3.78591716e-02,\n",
       "        1.24534592e-02, -7.94995502e-02, -2.15790272e-02,  1.20276054e-02,\n",
       "        1.74871236e-02,  8.74479264e-02,  6.64091259e-02,  3.13737243e-02,\n",
       "       -1.00628920e-02,  2.07700524e-02, -5.20163625e-02, -8.91332515e-03,\n",
       "        1.48542300e-01, -2.51261028e-03,  9.93156284e-02,  2.34929211e-02],\n",
       "      dtype=float32)"
      ]
     },
     "execution_count": 10,
     "metadata": {},
     "output_type": "execute_result"
    }
   ],
   "source": [
    "vector"
   ]
  },
  {
   "cell_type": "code",
   "execution_count": 11,
   "id": "38de1bf8-c9b5-45b4-9f4b-86af93b3f80d",
   "metadata": {},
   "outputs": [],
   "source": [
    "def description(item):\n",
    "    text = item.prompt.replace(\"How much does this cost to the nearest dollar?\\n\\n\", \"\")\n",
    "    return text.split(\"\\n\\nPrice is $\")[0]"
   ]
  },
  {
   "cell_type": "code",
   "execution_count": 12,
   "id": "8c1205bd-4692-44ef-8ea4-69f255354537",
   "metadata": {},
   "outputs": [
    {
     "data": {
      "text/plain": [
       "'Delphi FG0166 Fuel Pump Module\\nDelphi brings 80 years of OE Heritage into each Delphi pump, ensuring quality and fitment for each Delphi part. Part is validated, tested and matched to the right vehicle application Delphi brings 80 years of OE Heritage into each Delphi assembly, ensuring quality and fitment for each Delphi part Always be sure to check and clean fuel tank to avoid unnecessary returns Rigorous OE-testing ensures the pump can withstand extreme temperatures Brand Delphi, Fit Type Vehicle Specific Fit, Dimensions LxWxH 19.7 x 7.7 x 5.1 inches, Weight 2.2 Pounds, Auto Part Position Unknown, Operation Mode Mechanical, Manufacturer Delphi, Model FUEL PUMP, Dimensions 19.7'"
      ]
     },
     "execution_count": 12,
     "metadata": {},
     "output_type": "execute_result"
    }
   ],
   "source": [
    "description(train[0])"
   ]
  },
  {
   "cell_type": "markdown",
   "id": "1d433355-9c4e-4408-b9df-47c912c3a756",
   "metadata": {},
   "source": [
    "# Le step suivant consite à peupler la collection_name = \"products\""
   ]
  },
  {
   "cell_type": "code",
   "execution_count": 13,
   "id": "8c79e2fe-1f50-4ebf-9a93-34f3088f2996",
   "metadata": {},
   "outputs": [
    {
     "name": "stderr",
     "output_type": "stream",
     "text": [
      "100%|██████████████████████████████████████████████████████████████████████████████████████████████████████████████████| 400/400 [4:19:42<00:00, 38.96s/it]\n"
     ]
    }
   ],
   "source": [
    "for i in tqdm(range(0, len(train), 1000)):\n",
    "    documents = [description(item) for item in train[i: i+1000]]\n",
    "    vectors = model.encode(documents).astype(float).tolist()\n",
    "    metadatas = [{\"category\": item.category, \"price\": item.price} for item in train[i: i+1000]]\n",
    "    ids = [f\"doc_{j}\" for j in range(i, i+1000)]\n",
    "    collection.add(\n",
    "        ids=ids,\n",
    "        documents=documents,\n",
    "        embeddings=vectors,\n",
    "        metadatas=metadatas\n",
    "    )"
   ]
  }
 ],
 "metadata": {
  "kernelspec": {
   "display_name": "Python 3 (ipykernel)",
   "language": "python",
   "name": "python3"
  },
  "language_info": {
   "codemirror_mode": {
    "name": "ipython",
    "version": 3
   },
   "file_extension": ".py",
   "mimetype": "text/x-python",
   "name": "python",
   "nbconvert_exporter": "python",
   "pygments_lexer": "ipython3",
   "version": "3.11.11"
  }
 },
 "nbformat": 4,
 "nbformat_minor": 5
}
